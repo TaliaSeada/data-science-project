{
 "cells": [
  {
   "cell_type": "markdown",
   "metadata": {},
   "source": [
    "# Question 1"
   ]
  },
  {
   "cell_type": "markdown",
   "metadata": {},
   "source": [
    "In order to progrem a function that changes the base, let us use the build in functions:\n",
    "1. bin()\n",
    "2. oct()\n",
    "3. hex()\n",
    "\n",
    "then define a function that changes the base by the base the user want to change to."
   ]
  },
  {
   "cell_type": "code",
   "execution_count": 306,
   "metadata": {},
   "outputs": [
    {
     "name": "stdout",
     "output_type": "stream",
     "text": [
      "20  in Binary :  0b10100\n",
      "20 in Octal :  0o24\n",
      "20  in Hexadecimal :  0x14\n"
     ]
    },
    {
     "data": {
      "text/plain": [
       "'Please choose base 2/8/16'"
      ]
     },
     "execution_count": 306,
     "metadata": {},
     "output_type": "execute_result"
    }
   ],
   "source": [
    "# Function to convert decimal to binary \n",
    "def decimal_to_binary(dec): \n",
    "    decimal = int(dec) \n",
    "    # Prints equivalent decimal \n",
    "    print(decimal, \" in Binary : \", bin(decimal)) \n",
    "    \n",
    "# Function to convert decimal to octal \n",
    "def decimal_to_octal(dec): \n",
    "    decimal = int(dec)   \n",
    "    # Prints equivalent decimal \n",
    "    print(decimal, \"in Octal : \", oct(decimal))  \n",
    "    \n",
    "# Function to convert decimal to hexadecimal \n",
    "def decimal_to_hexadecimal(dec): \n",
    "    decimal = int(dec)   \n",
    "    # Prints equivalent decimal \n",
    "    print(decimal, \" in Hexadecimal : \", hex(decimal)) \n",
    "    \n",
    "def change_base(dec, base):\n",
    "    if base == 2:\n",
    "        return decimal_to_binary(dec)\n",
    "    elif base == 8:\n",
    "        return decimal_to_octal(dec)\n",
    "    elif base == 16:\n",
    "        return decimal_to_hexadecimal(dec)\n",
    "    else:\n",
    "        return \"Please choose base 2/8/16\"\n",
    "#tests:   \n",
    "change_base(20, 2)\n",
    "change_base(20, 8)\n",
    "change_base(20, 16)\n",
    "change_base(20, 3)"
   ]
  },
  {
   "cell_type": "markdown",
   "metadata": {},
   "source": []
  },
  {
   "cell_type": "markdown",
   "metadata": {},
   "source": [
    "# Question 2\n",
    "### Q1\n",
    "Importing the data:"
   ]
  },
  {
   "cell_type": "code",
   "execution_count": 5,
   "metadata": {},
   "outputs": [
    {
     "data": {
      "text/html": [
       "<div>\n",
       "<style scoped>\n",
       "    .dataframe tbody tr th:only-of-type {\n",
       "        vertical-align: middle;\n",
       "    }\n",
       "\n",
       "    .dataframe tbody tr th {\n",
       "        vertical-align: top;\n",
       "    }\n",
       "\n",
       "    .dataframe thead th {\n",
       "        text-align: right;\n",
       "    }\n",
       "</style>\n",
       "<table border=\"1\" class=\"dataframe\">\n",
       "  <thead>\n",
       "    <tr style=\"text-align: right;\">\n",
       "      <th></th>\n",
       "      <th>title</th>\n",
       "      <th>year</th>\n",
       "      <th>name</th>\n",
       "      <th>type</th>\n",
       "      <th>character</th>\n",
       "      <th>n</th>\n",
       "    </tr>\n",
       "  </thead>\n",
       "  <tbody>\n",
       "    <tr>\n",
       "      <th>0</th>\n",
       "      <td>Suuri illusioni</td>\n",
       "      <td>1985</td>\n",
       "      <td>Homo $</td>\n",
       "      <td>actor</td>\n",
       "      <td>Guests</td>\n",
       "      <td>22.0</td>\n",
       "    </tr>\n",
       "    <tr>\n",
       "      <th>1</th>\n",
       "      <td>Gangsta Rap: The Glockumentary</td>\n",
       "      <td>2007</td>\n",
       "      <td>Too $hort</td>\n",
       "      <td>actor</td>\n",
       "      <td>Himself</td>\n",
       "      <td>NaN</td>\n",
       "    </tr>\n",
       "    <tr>\n",
       "      <th>2</th>\n",
       "      <td>Menace II Society</td>\n",
       "      <td>1993</td>\n",
       "      <td>Too $hort</td>\n",
       "      <td>actor</td>\n",
       "      <td>Lew-Loc</td>\n",
       "      <td>27.0</td>\n",
       "    </tr>\n",
       "    <tr>\n",
       "      <th>3</th>\n",
       "      <td>Porndogs: The Adventures of Sadie</td>\n",
       "      <td>2009</td>\n",
       "      <td>Too $hort</td>\n",
       "      <td>actor</td>\n",
       "      <td>Bosco</td>\n",
       "      <td>3.0</td>\n",
       "    </tr>\n",
       "    <tr>\n",
       "      <th>4</th>\n",
       "      <td>Stop Pepper Palmer</td>\n",
       "      <td>2014</td>\n",
       "      <td>Too $hort</td>\n",
       "      <td>actor</td>\n",
       "      <td>Himself</td>\n",
       "      <td>NaN</td>\n",
       "    </tr>\n",
       "  </tbody>\n",
       "</table>\n",
       "</div>"
      ],
      "text/plain": [
       "                               title  year       name   type character     n\n",
       "0                    Suuri illusioni  1985     Homo $  actor    Guests  22.0\n",
       "1     Gangsta Rap: The Glockumentary  2007  Too $hort  actor   Himself   NaN\n",
       "2                  Menace II Society  1993  Too $hort  actor   Lew-Loc  27.0\n",
       "3  Porndogs: The Adventures of Sadie  2009  Too $hort  actor     Bosco   3.0\n",
       "4                 Stop Pepper Palmer  2014  Too $hort  actor   Himself   NaN"
      ]
     },
     "execution_count": 5,
     "metadata": {},
     "output_type": "execute_result"
    }
   ],
   "source": [
    "import pandas as pd\n",
    "cast = pd.read_csv(r'C:\\Users\\talia\\OneDrive\\שולחן העבודה\\מבוא למדעי הנתונים\\cast.csv')\n",
    "cast.head()"
   ]
  },
  {
   "cell_type": "markdown",
   "metadata": {},
   "source": [
    "First let us get the all the locations of the Helmet movies, then let us remove all the duplicate places that are from the same year, then count all the movies."
   ]
  },
  {
   "cell_type": "code",
   "execution_count": 56,
   "metadata": {},
   "outputs": [
    {
     "data": {
      "text/plain": [
       "title        17\n",
       "year         17\n",
       "name         17\n",
       "type         17\n",
       "character    17\n",
       "n            12\n",
       "dtype: int64"
      ]
     },
     "execution_count": 56,
     "metadata": {},
     "output_type": "execute_result"
    }
   ],
   "source": [
    "h = cast.loc[cast['title'] == 'Hamlet']\n",
    "h = h.drop_duplicates(subset = 'year', keep = 'first')\n",
    "h.count()\n",
    "#17 movies have the title \"Hamlet\""
   ]
  },
  {
   "cell_type": "markdown",
   "metadata": {},
   "source": []
  },
  {
   "cell_type": "markdown",
   "metadata": {},
   "source": [
    "# Question 2\n",
    "### Q2"
   ]
  },
  {
   "cell_type": "markdown",
   "metadata": {},
   "source": [
    "First let us get the all the locations of the Treasure Island movies, then let us remove all the duplicate places that are from the same year, then sort the years of the movies."
   ]
  },
  {
   "cell_type": "code",
   "execution_count": 52,
   "metadata": {},
   "outputs": [
    {
     "data": {
      "text/html": [
       "<div>\n",
       "<style scoped>\n",
       "    .dataframe tbody tr th:only-of-type {\n",
       "        vertical-align: middle;\n",
       "    }\n",
       "\n",
       "    .dataframe tbody tr th {\n",
       "        vertical-align: top;\n",
       "    }\n",
       "\n",
       "    .dataframe thead th {\n",
       "        text-align: right;\n",
       "    }\n",
       "</style>\n",
       "<table border=\"1\" class=\"dataframe\">\n",
       "  <thead>\n",
       "    <tr style=\"text-align: right;\">\n",
       "      <th></th>\n",
       "      <th>title</th>\n",
       "      <th>year</th>\n",
       "      <th>name</th>\n",
       "      <th>type</th>\n",
       "      <th>character</th>\n",
       "      <th>n</th>\n",
       "    </tr>\n",
       "  </thead>\n",
       "  <tbody>\n",
       "    <tr>\n",
       "      <th>313097</th>\n",
       "      <td>Treasure Island</td>\n",
       "      <td>1918</td>\n",
       "      <td>Francis Carpenter</td>\n",
       "      <td>actor</td>\n",
       "      <td>Jim Hawkins</td>\n",
       "      <td>1.0</td>\n",
       "    </tr>\n",
       "    <tr>\n",
       "      <th>345942</th>\n",
       "      <td>Treasure Island</td>\n",
       "      <td>1920</td>\n",
       "      <td>Lon Chaney</td>\n",
       "      <td>actor</td>\n",
       "      <td>Blind Pew</td>\n",
       "      <td>5.0</td>\n",
       "    </tr>\n",
       "    <tr>\n",
       "      <th>8570</th>\n",
       "      <td>Treasure Island</td>\n",
       "      <td>1934</td>\n",
       "      <td>Robert Adair</td>\n",
       "      <td>actor</td>\n",
       "      <td>Tom - Seaman</td>\n",
       "      <td>NaN</td>\n",
       "    </tr>\n",
       "    <tr>\n",
       "      <th>12141</th>\n",
       "      <td>Treasure Island</td>\n",
       "      <td>1950</td>\n",
       "      <td>Chris Adcock</td>\n",
       "      <td>actor</td>\n",
       "      <td>Pike</td>\n",
       "      <td>26.0</td>\n",
       "    </tr>\n",
       "    <tr>\n",
       "      <th>38151</th>\n",
       "      <td>Treasure Island</td>\n",
       "      <td>1972</td>\n",
       "      <td>Cristino Almod?var</td>\n",
       "      <td>actor</td>\n",
       "      <td>O'Brien</td>\n",
       "      <td>18.0</td>\n",
       "    </tr>\n",
       "    <tr>\n",
       "      <th>484325</th>\n",
       "      <td>Treasure Island</td>\n",
       "      <td>1973</td>\n",
       "      <td>Richard Dawson</td>\n",
       "      <td>actor</td>\n",
       "      <td>Long John Silver</td>\n",
       "      <td>1.0</td>\n",
       "    </tr>\n",
       "    <tr>\n",
       "      <th>14899</th>\n",
       "      <td>Treasure Island</td>\n",
       "      <td>1985</td>\n",
       "      <td>Yves Afonso</td>\n",
       "      <td>actor</td>\n",
       "      <td>French captain</td>\n",
       "      <td>8.0</td>\n",
       "    </tr>\n",
       "    <tr>\n",
       "      <th>104905</th>\n",
       "      <td>Treasure Island</td>\n",
       "      <td>1999</td>\n",
       "      <td>Lance (II) Baker</td>\n",
       "      <td>actor</td>\n",
       "      <td>Frank</td>\n",
       "      <td>1.0</td>\n",
       "    </tr>\n",
       "  </tbody>\n",
       "</table>\n",
       "</div>"
      ],
      "text/plain": [
       "                  title  year                name   type         character  \\\n",
       "313097  Treasure Island  1918   Francis Carpenter  actor       Jim Hawkins   \n",
       "345942  Treasure Island  1920          Lon Chaney  actor        Blind Pew    \n",
       "8570    Treasure Island  1934        Robert Adair  actor      Tom - Seaman   \n",
       "12141   Treasure Island  1950        Chris Adcock  actor              Pike   \n",
       "38151   Treasure Island  1972  Cristino Almod?var  actor           O'Brien   \n",
       "484325  Treasure Island  1973      Richard Dawson  actor  Long John Silver   \n",
       "14899   Treasure Island  1985         Yves Afonso  actor    French captain   \n",
       "104905  Treasure Island  1999    Lance (II) Baker  actor             Frank   \n",
       "\n",
       "           n  \n",
       "313097   1.0  \n",
       "345942   5.0  \n",
       "8570     NaN  \n",
       "12141   26.0  \n",
       "38151   18.0  \n",
       "484325   1.0  \n",
       "14899    8.0  \n",
       "104905   1.0  "
      ]
     },
     "execution_count": 52,
     "metadata": {},
     "output_type": "execute_result"
    }
   ],
   "source": [
    "t = cast.loc[cast['title'] == 'Treasure Island']\n",
    "t = t.drop_duplicates(subset = 'year', keep = 'first')\n",
    "t = t.sort_values('year', ascending = True)\n",
    "t"
   ]
  },
  {
   "cell_type": "markdown",
   "metadata": {},
   "source": []
  },
  {
   "cell_type": "markdown",
   "metadata": {},
   "source": [
    "# Question 2\n",
    "### Q3"
   ]
  },
  {
   "cell_type": "markdown",
   "metadata": {},
   "source": [
    "Let us get all the movies of Hamlet information, then just the one from 1921, and count all the roles."
   ]
  },
  {
   "cell_type": "code",
   "execution_count": 62,
   "metadata": {},
   "outputs": [
    {
     "data": {
      "text/plain": [
       "title        9\n",
       "year         9\n",
       "name         9\n",
       "type         9\n",
       "character    9\n",
       "n            9\n",
       "dtype: int64"
      ]
     },
     "execution_count": 62,
     "metadata": {},
     "output_type": "execute_result"
    }
   ],
   "source": [
    "actor = cast.loc[cast['title'] == 'Hamlet']\n",
    "actor = actor.loc[actor['year'] == 1921]\n",
    "actor.count()\n",
    "#9 roles were credited in the silent 1921 version of Hamlet"
   ]
  },
  {
   "cell_type": "markdown",
   "metadata": {},
   "source": []
  },
  {
   "cell_type": "markdown",
   "metadata": {},
   "source": [
    "# Question 2\n",
    "### Q4"
   ]
  },
  {
   "cell_type": "markdown",
   "metadata": {},
   "source": [
    "Let us get the decades by divide the years by 100, then using the same variable h (which we defined in Q1) and get the size to get the number of \"Hamlet\" films made in those years."
   ]
  },
  {
   "cell_type": "code",
   "execution_count": 330,
   "metadata": {},
   "outputs": [
    {
     "data": {
      "text/plain": [
       "year\n",
       "1910    3\n",
       "1920    1\n",
       "1940    1\n",
       "1950    1\n",
       "1960    2\n",
       "1970    2\n",
       "1980    1\n",
       "1990    2\n",
       "2000    2\n",
       "2010    2\n",
       "dtype: int64"
      ]
     },
     "execution_count": 330,
     "metadata": {},
     "output_type": "execute_result"
    }
   ],
   "source": [
    "hamlet_years_group =h.groupby(h['year']//10*10)\n",
    "t = hamlet_years_group.size()\n",
    "t"
   ]
  },
  {
   "cell_type": "markdown",
   "metadata": {},
   "source": []
  },
  {
   "cell_type": "markdown",
   "metadata": {},
   "source": [
    "# Question 2\n",
    "### Q5"
   ]
  },
  {
   "cell_type": "markdown",
   "metadata": {},
   "source": [
    "First let us get the leading roles list, then specifically the years 1950 - 1959.\n",
    "Then we define the actors and actresses leading lists, and by the function groupby we group the lists by the years, then convert them into data frames."
   ]
  },
  {
   "cell_type": "code",
   "execution_count": 168,
   "metadata": {},
   "outputs": [
    {
     "data": {
      "text/html": [
       "<div>\n",
       "<style scoped>\n",
       "    .dataframe tbody tr th:only-of-type {\n",
       "        vertical-align: middle;\n",
       "    }\n",
       "\n",
       "    .dataframe tbody tr th {\n",
       "        vertical-align: top;\n",
       "    }\n",
       "\n",
       "    .dataframe thead th {\n",
       "        text-align: right;\n",
       "    }\n",
       "</style>\n",
       "<table border=\"1\" class=\"dataframe\">\n",
       "  <thead>\n",
       "    <tr style=\"text-align: right;\">\n",
       "      <th></th>\n",
       "      <th>actor</th>\n",
       "      <th>actress</th>\n",
       "    </tr>\n",
       "    <tr>\n",
       "      <th>year</th>\n",
       "      <th></th>\n",
       "      <th></th>\n",
       "    </tr>\n",
       "  </thead>\n",
       "  <tbody>\n",
       "    <tr>\n",
       "      <th>1950</th>\n",
       "      <td>604</td>\n",
       "      <td>271</td>\n",
       "    </tr>\n",
       "    <tr>\n",
       "      <th>1951</th>\n",
       "      <td>633</td>\n",
       "      <td>272</td>\n",
       "    </tr>\n",
       "    <tr>\n",
       "      <th>1952</th>\n",
       "      <td>591</td>\n",
       "      <td>284</td>\n",
       "    </tr>\n",
       "    <tr>\n",
       "      <th>1953</th>\n",
       "      <td>634</td>\n",
       "      <td>290</td>\n",
       "    </tr>\n",
       "    <tr>\n",
       "      <th>1954</th>\n",
       "      <td>626</td>\n",
       "      <td>298</td>\n",
       "    </tr>\n",
       "    <tr>\n",
       "      <th>1955</th>\n",
       "      <td>606</td>\n",
       "      <td>264</td>\n",
       "    </tr>\n",
       "    <tr>\n",
       "      <th>1956</th>\n",
       "      <td>614</td>\n",
       "      <td>288</td>\n",
       "    </tr>\n",
       "    <tr>\n",
       "      <th>1957</th>\n",
       "      <td>708</td>\n",
       "      <td>284</td>\n",
       "    </tr>\n",
       "    <tr>\n",
       "      <th>1958</th>\n",
       "      <td>694</td>\n",
       "      <td>275</td>\n",
       "    </tr>\n",
       "    <tr>\n",
       "      <th>1959</th>\n",
       "      <td>678</td>\n",
       "      <td>287</td>\n",
       "    </tr>\n",
       "  </tbody>\n",
       "</table>\n",
       "</div>"
      ],
      "text/plain": [
       "      actor  actress\n",
       "year                \n",
       "1950    604      271\n",
       "1951    633      272\n",
       "1952    591      284\n",
       "1953    634      290\n",
       "1954    626      298\n",
       "1955    606      264\n",
       "1956    614      288\n",
       "1957    708      284\n",
       "1958    694      275\n",
       "1959    678      287"
      ]
     },
     "execution_count": 168,
     "metadata": {},
     "output_type": "execute_result"
    }
   ],
   "source": [
    "leading_roles = cast.loc[cast['n']==1]\n",
    "years = leading_roles.loc[leading_roles['year']>=1950].loc[leading_roles['year']<1960]\n",
    "actors = years.loc[years['type'] == 'actor']\n",
    "actress = years.loc[years['type'] == 'actress']\n",
    "#groupby the actors and the actresses locations by years\n",
    "actors_group = actors.groupby('year').size()\n",
    "actress_group = actress.groupby('year').size()\n",
    "df1 = pd.DataFrame(actors_group)\n",
    "df2 = pd.DataFrame(actress_group)\n",
    "frames = [df1, df2]\n",
    "result = pd.concat(frames , axis = 1)\n",
    "result.columns = ['actor', 'actress']\n",
    "result"
   ]
  },
  {
   "cell_type": "markdown",
   "metadata": {},
   "source": []
  },
  {
   "cell_type": "markdown",
   "metadata": {},
   "source": [
    "# Question 2\n",
    "### Q6"
   ]
  },
  {
   "cell_type": "markdown",
   "metadata": {},
   "source": [
    "First we locate all the leading roles in the years since 1990, then get the names of the actors/actresses and set them acording to thier number of roles, then get the first ten."
   ]
  },
  {
   "cell_type": "code",
   "execution_count": 182,
   "metadata": {},
   "outputs": [
    {
     "data": {
      "text/html": [
       "<div>\n",
       "<style scoped>\n",
       "    .dataframe tbody tr th:only-of-type {\n",
       "        vertical-align: middle;\n",
       "    }\n",
       "\n",
       "    .dataframe tbody tr th {\n",
       "        vertical-align: top;\n",
       "    }\n",
       "\n",
       "    .dataframe thead th {\n",
       "        text-align: right;\n",
       "    }\n",
       "</style>\n",
       "<table border=\"1\" class=\"dataframe\">\n",
       "  <thead>\n",
       "    <tr style=\"text-align: right;\">\n",
       "      <th></th>\n",
       "      <th>name</th>\n",
       "    </tr>\n",
       "  </thead>\n",
       "  <tbody>\n",
       "    <tr>\n",
       "      <th>Mohanlal</th>\n",
       "      <td>126</td>\n",
       "    </tr>\n",
       "    <tr>\n",
       "      <th>Mammootty</th>\n",
       "      <td>118</td>\n",
       "    </tr>\n",
       "    <tr>\n",
       "      <th>Akshay Kumar</th>\n",
       "      <td>87</td>\n",
       "    </tr>\n",
       "    <tr>\n",
       "      <th>Jayaram</th>\n",
       "      <td>76</td>\n",
       "    </tr>\n",
       "    <tr>\n",
       "      <th>Andy Lau</th>\n",
       "      <td>72</td>\n",
       "    </tr>\n",
       "    <tr>\n",
       "      <th>Ajay Devgn</th>\n",
       "      <td>69</td>\n",
       "    </tr>\n",
       "    <tr>\n",
       "      <th>Amitabh Bachchan</th>\n",
       "      <td>68</td>\n",
       "    </tr>\n",
       "    <tr>\n",
       "      <th>Eric Roberts</th>\n",
       "      <td>68</td>\n",
       "    </tr>\n",
       "    <tr>\n",
       "      <th>Nagarjuna Akkineni</th>\n",
       "      <td>60</td>\n",
       "    </tr>\n",
       "    <tr>\n",
       "      <th>Dilip</th>\n",
       "      <td>59</td>\n",
       "    </tr>\n",
       "  </tbody>\n",
       "</table>\n",
       "</div>"
      ],
      "text/plain": [
       "                    name\n",
       "Mohanlal             126\n",
       "Mammootty            118\n",
       "Akshay Kumar          87\n",
       "Jayaram               76\n",
       "Andy Lau              72\n",
       "Ajay Devgn            69\n",
       "Amitabh Bachchan      68\n",
       "Eric Roberts          68\n",
       "Nagarjuna Akkineni    60\n",
       "Dilip                 59"
      ]
     },
     "execution_count": 182,
     "metadata": {},
     "output_type": "execute_result"
    }
   ],
   "source": [
    "years1 = leading_roles.loc[leading_roles1['year']>=1990]\n",
    "years1 = years1['name'].value_counts().head(10)\n",
    "df = pd.DataFrame(years1)\n",
    "df"
   ]
  },
  {
   "cell_type": "markdown",
   "metadata": {},
   "source": []
  },
  {
   "cell_type": "markdown",
   "metadata": {},
   "source": [
    "# Question 2\n",
    "### Q7"
   ]
  },
  {
   "cell_type": "markdown",
   "metadata": {},
   "source": [
    "Let us locate every movie that he was in, then let us sort the years. \n",
    "After that we get all the roles he had in the movies, and finaly show only the ones he had more than one role."
   ]
  },
  {
   "cell_type": "code",
   "execution_count": 335,
   "metadata": {},
   "outputs": [
    {
     "data": {
      "text/html": [
       "<div>\n",
       "<style scoped>\n",
       "    .dataframe tbody tr th:only-of-type {\n",
       "        vertical-align: middle;\n",
       "    }\n",
       "\n",
       "    .dataframe tbody tr th {\n",
       "        vertical-align: top;\n",
       "    }\n",
       "\n",
       "    .dataframe thead th {\n",
       "        text-align: right;\n",
       "    }\n",
       "</style>\n",
       "<table border=\"1\" class=\"dataframe\">\n",
       "  <thead>\n",
       "    <tr style=\"text-align: right;\">\n",
       "      <th></th>\n",
       "      <th></th>\n",
       "      <th>0</th>\n",
       "    </tr>\n",
       "    <tr>\n",
       "      <th>year</th>\n",
       "      <th>title</th>\n",
       "      <th></th>\n",
       "    </tr>\n",
       "  </thead>\n",
       "  <tbody>\n",
       "    <tr>\n",
       "      <th>1979</th>\n",
       "      <th>The Muppet Movie</th>\n",
       "      <td>8</td>\n",
       "    </tr>\n",
       "    <tr>\n",
       "      <th rowspan=\"2\" valign=\"top\">1981</th>\n",
       "      <th>An American Werewolf in London</th>\n",
       "      <td>2</td>\n",
       "    </tr>\n",
       "    <tr>\n",
       "      <th>The Great Muppet Caper</th>\n",
       "      <td>6</td>\n",
       "    </tr>\n",
       "    <tr>\n",
       "      <th>1982</th>\n",
       "      <th>The Dark Crystal</th>\n",
       "      <td>2</td>\n",
       "    </tr>\n",
       "    <tr>\n",
       "      <th>1984</th>\n",
       "      <th>The Muppets Take Manhattan</th>\n",
       "      <td>7</td>\n",
       "    </tr>\n",
       "    <tr>\n",
       "      <th>1985</th>\n",
       "      <th>Sesame Street Presents: Follow that Bird</th>\n",
       "      <td>3</td>\n",
       "    </tr>\n",
       "    <tr>\n",
       "      <th>1992</th>\n",
       "      <th>The Muppet Christmas Carol</th>\n",
       "      <td>7</td>\n",
       "    </tr>\n",
       "    <tr>\n",
       "      <th>1996</th>\n",
       "      <th>Muppet Treasure Island</th>\n",
       "      <td>4</td>\n",
       "    </tr>\n",
       "    <tr>\n",
       "      <th rowspan=\"2\" valign=\"top\">1999</th>\n",
       "      <th>Muppets from Space</th>\n",
       "      <td>4</td>\n",
       "    </tr>\n",
       "    <tr>\n",
       "      <th>The Adventures of Elmo in Grouchland</th>\n",
       "      <td>3</td>\n",
       "    </tr>\n",
       "  </tbody>\n",
       "</table>\n",
       "</div>"
      ],
      "text/plain": [
       "                                               0\n",
       "year title                                      \n",
       "1979 The Muppet Movie                          8\n",
       "1981 An American Werewolf in London            2\n",
       "     The Great Muppet Caper                    6\n",
       "1982 The Dark Crystal                          2\n",
       "1984 The Muppets Take Manhattan                7\n",
       "1985 Sesame Street Presents: Follow that Bird  3\n",
       "1992 The Muppet Christmas Carol                7\n",
       "1996 Muppet Treasure Island                    4\n",
       "1999 Muppets from Space                        4\n",
       "     The Adventures of Elmo in Grouchland      3"
      ]
     },
     "execution_count": 335,
     "metadata": {},
     "output_type": "execute_result"
    }
   ],
   "source": [
    "frank_oz = cast.loc[cast['name'] == 'Frank Oz']\n",
    "frank_oz = frank_oz.sort_values('year')\n",
    "frank_oz = frank_oz.groupby(['year','title']).size()\n",
    "frank_oz = frank_oz[frank_oz > 1]\n",
    "df3 = pd.DataFrame(frank_oz)\n",
    "df3"
   ]
  },
  {
   "cell_type": "markdown",
   "metadata": {},
   "source": []
  }
 ],
 "metadata": {
  "kernelspec": {
   "display_name": "Python 3",
   "language": "python",
   "name": "python3"
  },
  "language_info": {
   "codemirror_mode": {
    "name": "ipython",
    "version": 3
   },
   "file_extension": ".py",
   "mimetype": "text/x-python",
   "name": "python",
   "nbconvert_exporter": "python",
   "pygments_lexer": "ipython3",
   "version": "3.8.3"
  }
 },
 "nbformat": 4,
 "nbformat_minor": 4
}
