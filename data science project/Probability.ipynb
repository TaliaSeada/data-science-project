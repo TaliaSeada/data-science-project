{
 "cells": [
  {
   "attachments": {},
   "cell_type": "markdown",
   "metadata": {},
   "source": [
    "# In order to answer the questions we use the conditional probability and the bayes theorem:"
   ]
  },
  {
   "attachments": {},
   "cell_type": "markdown",
   "metadata": {},
   "source": [
    "$$P(A|B) = \\frac{P(A \\cap B)}{P(B)}$$"
   ]
  },
  {
   "attachments": {},
   "cell_type": "markdown",
   "metadata": {},
   "source": [
    "$$P(A|B) = \\frac{P(B|A)P(A)}{P(B)}$$"
   ]
  },
  {
   "cell_type": "markdown",
   "metadata": {},
   "source": [
    "# Question 1\n",
    "### Q1.a"
   ]
  },
  {
   "cell_type": "markdown",
   "metadata": {},
   "source": [
    "First let us calculate the probability to birth of twins,\n",
    "the probability to that is the probability to birth of non-identical twins and the probability to birth of identical twins.\n",
    "So, the probability to birth of non-identical twins is 1/125\n",
    "and, the probability to birth of identical twins is 1/300.\n",
    "Then we use the conditional probabilit."
   ]
  },
  {
   "cell_type": "code",
   "execution_count": 24,
   "metadata": {},
   "outputs": [
    {
     "data": {
      "text/plain": [
       "0.29411764705882354"
      ]
     },
     "execution_count": 24,
     "metadata": {},
     "output_type": "execute_result"
    }
   ],
   "source": [
    "nonIidentical = 1/125\n",
    "identical = 1/300 #𝑃(𝐴∩𝐵)\n",
    "p_twins = nonIidentical + identical #𝑃(𝐵)\n",
    "p_twinElvis = identical/p_twins #𝑃(𝐴∩𝐵)/𝑃(𝐵)\n",
    "p_twinElvis"
   ]
  },
  {
   "cell_type": "markdown",
   "metadata": {},
   "source": [
    "### Q1.b"
   ]
  },
  {
   "cell_type": "markdown",
   "metadata": {},
   "source": [
    "We know that he picked a chocolate, let us calculate the probability he chose chocolate, \n",
    "then let us calculate the probability to chose chocolate from bowl 1.\n",
    "Then we use the conditional probabilit."
   ]
  },
  {
   "cell_type": "code",
   "execution_count": 21,
   "metadata": {},
   "outputs": [
    {
     "data": {
      "text/plain": [
       "0.6"
      ]
     },
     "execution_count": 21,
     "metadata": {},
     "output_type": "execute_result"
    }
   ],
   "source": [
    "p_choco_1 = 1/2 * 3/4 #𝑃(𝐴∩𝐵)\n",
    "p_choco = (1/2 * 3/4) + (1/2 * 1/2) #𝑃(𝐵)\n",
    "p_bowl_1 = p_choco_1/p_choco #𝑃(𝐴∩𝐵)/𝑃(𝐵)\n",
    "p_bowl_1"
   ]
  },
  {
   "cell_type": "markdown",
   "metadata": {},
   "source": []
  },
  {
   "cell_type": "markdown",
   "metadata": {},
   "source": [
    "# Question 2"
   ]
  },
  {
   "cell_type": "markdown",
   "metadata": {},
   "source": [
    "We know he got a yellow candy, let us calculate the probability it was from the 1994 bag.\n",
    "First we calculate the probability for the candy being yellow, then we calculate the candy being yellow from the 1994 bag.\n",
    "Then we use the conditional probabilit."
   ]
  },
  {
   "cell_type": "code",
   "execution_count": 25,
   "metadata": {},
   "outputs": [
    {
     "data": {
      "text/plain": [
       "0.5882352941176471"
      ]
     },
     "execution_count": 25,
     "metadata": {},
     "output_type": "execute_result"
    }
   ],
   "source": [
    "p_1994 = 1/2 * 1/5 #𝑃(𝐴∩𝐵)\n",
    "p_yellow = (1/2 * 1/5) + (14/100 * 1/2) #𝑃(𝐵)\n",
    "p_yellow_1994 = p_1994/p_yellow  #𝑃(𝐴∩𝐵)/𝑃(𝐵)\n",
    "p_yellow_1994"
   ]
  },
  {
   "cell_type": "markdown",
   "metadata": {},
   "source": []
  },
  {
   "cell_type": "markdown",
   "metadata": {},
   "source": [
    "# Question 3\n",
    "### a"
   ]
  },
  {
   "cell_type": "markdown",
   "metadata": {},
   "source": [
    "Let us set the information we have:\n",
    "1. out of 100 healthy people $->$ 1 sick, 99 healthy\n",
    "2. out of 100 sick people $->$ 100 sick, 0 healthy"
   ]
  },
  {
   "cell_type": "code",
   "execution_count": 85,
   "metadata": {},
   "outputs": [],
   "source": [
    "p_sick1 = 1/(10**4)"
   ]
  },
  {
   "cell_type": "markdown",
   "metadata": {},
   "source": [
    "Then let us calculate the probability for being positive, and while we know that $p(positive|sick) = 1$, and $p(sick) = 1/(10^4)$. Let us use the bayes theorem."
   ]
  },
  {
   "cell_type": "code",
   "execution_count": 88,
   "metadata": {},
   "outputs": [
    {
     "data": {
      "text/plain": [
       "0.009901970492127933"
      ]
     },
     "execution_count": 88,
     "metadata": {},
     "output_type": "execute_result"
    }
   ],
   "source": [
    "#𝑃(𝐴|𝐵)=𝑃(𝐵|𝐴)𝑃(𝐴)/𝑃(𝐵)\n",
    "p_positive1 = p_sick1*1 + (1-p_sick1)*1/100 \n",
    "p_sick_positive1 = (1*p_sick1)/p_positive1\n",
    "p_sick_positive1"
   ]
  },
  {
   "cell_type": "markdown",
   "metadata": {},
   "source": [
    "### b"
   ]
  },
  {
   "cell_type": "markdown",
   "metadata": {},
   "source": [
    "The probability to be sick has changed, now it out of 200. So:"
   ]
  },
  {
   "cell_type": "code",
   "execution_count": 87,
   "metadata": {},
   "outputs": [],
   "source": [
    "p_sick2 = 1/200"
   ]
  },
  {
   "cell_type": "markdown",
   "metadata": {},
   "source": [
    "Like the previous question, we use the bayes theorem. While we know that $p(positive|sick) = 1$, and $p(sick) = 1/200$ "
   ]
  },
  {
   "cell_type": "code",
   "execution_count": 89,
   "metadata": {},
   "outputs": [
    {
     "data": {
      "text/plain": [
       "0.33444816053511706"
      ]
     },
     "execution_count": 89,
     "metadata": {},
     "output_type": "execute_result"
    }
   ],
   "source": [
    "#𝑃(𝐴|𝐵)=𝑃(𝐵|𝐴)𝑃(𝐴)/𝑃(𝐵)\n",
    "p_positive2 = p_sick2*1 + (1-p_sick2)*1/100\n",
    "p_sick_positive2 = (1*p_sick2)/p_positive2\n",
    "p_sick_positive2"
   ]
  },
  {
   "cell_type": "markdown",
   "metadata": {},
   "source": []
  },
  {
   "cell_type": "markdown",
   "metadata": {},
   "source": [
    "# Random Variables: \n",
    "# Question 1"
   ]
  },
  {
   "cell_type": "markdown",
   "metadata": {},
   "source": [
    "In order to calculate the expected value let us use the formula $$E(x) = \\sum_{i=1}^n P(xi) \\bullet xi$$\n",
    "So, we need to calculate the probability of getting a divisible by 3 sum, then use the formula."
   ]
  },
  {
   "cell_type": "code",
   "execution_count": 27,
   "metadata": {},
   "outputs": [
    {
     "data": {
      "text/plain": [
       "0.0"
      ]
     },
     "execution_count": 27,
     "metadata": {},
     "output_type": "execute_result"
    }
   ],
   "source": [
    "#out of 36 option only 12 are divisible by 3 [(1,2),(1,5),(2,1),(2,4),(3,3),(3,6),(4,2),(4,5),(5,1),(5,4),(6,3),(6,6)], so:\n",
    "p_sumDivisibleBy_3 = 1/3\n",
    "p_sumNotDivisibleBy_3 = 1-p_sumDivisibleBy_3\n",
    "expectedValue1 = (6*p_sumDivisibleBy_3) + (-3*p_sumNotDivisibleBy_3)\n",
    "expectedValue1"
   ]
  },
  {
   "cell_type": "markdown",
   "metadata": {},
   "source": []
  },
  {
   "cell_type": "markdown",
   "metadata": {},
   "source": [
    "# Question 2"
   ]
  },
  {
   "cell_type": "markdown",
   "metadata": {},
   "source": [
    "The options we have are (5*5)=25  for every possible combination.\n",
    "\n",
    "The options to win are: [(8,5),(9,4),(9,5),(10,3),(10,4),(10,5)], 6 options.\n",
    "\n",
    "The options to even are: [(7,5),(8,4),(9,3),(10,2)], 4 options.\n",
    "\n",
    "The options to lose are: 25 - (win+even) = 25 - 10 = 15 options.\n",
    "\n",
    "In order to calculate the expected value let us use the formula $$E(x) = \\sum_{i=1}^n P(xi) \\bullet xi$$"
   ]
  },
  {
   "cell_type": "code",
   "execution_count": 76,
   "metadata": {},
   "outputs": [
    {
     "data": {
      "text/plain": [
       "-2.4000000000000004"
      ]
     },
     "execution_count": 76,
     "metadata": {},
     "output_type": "execute_result"
    }
   ],
   "source": [
    "win = 5*6/25\n",
    "even = 0*4/25\n",
    "lose = (-6)*15/25\n",
    "expectedValue2 = win + even + lose\n",
    "expectedValue2"
   ]
  },
  {
   "cell_type": "markdown",
   "metadata": {},
   "source": []
  },
  {
   "cell_type": "markdown",
   "metadata": {},
   "source": [
    "# Question 3"
   ]
  },
  {
   "cell_type": "markdown",
   "metadata": {},
   "source": [
    "40% are males, 60% are females. 8 are chosen out of all 200 employees, so the average of choosing a male is "
   ]
  },
  {
   "cell_type": "code",
   "execution_count": 29,
   "metadata": {},
   "outputs": [
    {
     "data": {
      "text/plain": [
       "3.2"
      ]
     },
     "execution_count": 29,
     "metadata": {},
     "output_type": "execute_result"
    }
   ],
   "source": [
    "ave = 0.4 * 8\n",
    "ave"
   ]
  },
  {
   "cell_type": "markdown",
   "metadata": {},
   "source": [
    "In order to calculate the standard deviation let us use the formula  $$ \\sigma = \\sqrt{\\frac{1}{n} \\sum_{i=1}^n (X_i - \\bar X)^2 }$$\n",
    "\n",
    "we have 9 options for choosing a male:\n",
    "1. if no males were chosen (0)\n",
    "2. some males were chosen (1-7)\n",
    "3. all chosen were males (8)\n",
    "\n",
    "so, n = 9,\n",
    "xi = $i \\in (0,9)$,\n",
    "x = 3.2"
   ]
  },
  {
   "cell_type": "code",
   "execution_count": 52,
   "metadata": {},
   "outputs": [
    {
     "data": {
      "text/plain": [
       "2.7030846576951055"
      ]
     },
     "execution_count": 52,
     "metadata": {},
     "output_type": "execute_result"
    }
   ],
   "source": [
    "w = 0\n",
    "for i in range(0,9):\n",
    "   w += (i-3.2)**2\n",
    "(w/9)**0.5"
   ]
  },
  {
   "cell_type": "markdown",
   "metadata": {},
   "source": []
  },
  {
   "cell_type": "markdown",
   "metadata": {},
   "source": [
    "# Question 4"
   ]
  },
  {
   "cell_type": "markdown",
   "metadata": {},
   "source": [
    "P(26<X<30)\n",
    "1. average = 26,000  \n",
    "2. standard deviation = 2,000 \n",
    "\n",
    "Note that 30 is far from 26 by the twice standard deviation, so by the 68-95-99.7 rule we know that the distribution for P(22<X<30) is 95%, and we need only P(26<X<30) exactly half.  "
   ]
  },
  {
   "cell_type": "code",
   "execution_count": 68,
   "metadata": {},
   "outputs": [
    {
     "name": "stdout",
     "output_type": "stream",
     "text": [
      "48 %\n"
     ]
    }
   ],
   "source": [
    "p = 95/2\n",
    "print(round(p),\"%\")"
   ]
  },
  {
   "attachments": {
    "image.png": {
     "image/png": "[encoded data removed]"
    }
   },
   "cell_type": "markdown",
   "metadata": {},
   "source": [
    "![image.png](attachment:image.png)"
   ]
  },
  {
   "cell_type": "markdown",
   "metadata": {},
   "source": []
  },
  {
   "cell_type": "markdown",
   "metadata": {},
   "source": [
    "# Question 5"
   ]
  },
  {
   "attachments": {
    "image.png": {
     "image/png": "[encoded data removed]"
    }
   },
   "cell_type": "markdown",
   "metadata": {},
   "source": [
    "![image.png](attachment:image.png)"
   ]
  },
  {
   "cell_type": "markdown",
   "metadata": {},
   "source": [
    "The probability for $P(3) = 0.4$, so to get the probability for $P(x>3)$ we need to calculate the area that under the triangle "
   ]
  },
  {
   "cell_type": "code",
   "execution_count": 67,
   "metadata": {},
   "outputs": [
    {
     "data": {
      "text/plain": [
       "0.4"
      ]
     },
     "execution_count": 67,
     "metadata": {},
     "output_type": "execute_result"
    }
   ],
   "source": [
    "#the area is the probability to get 𝑥>3\n",
    "area = (5-3)*(0.4)/2\n",
    "area"
   ]
  },
  {
   "cell_type": "markdown",
   "metadata": {},
   "source": []
  },
  {
   "cell_type": "markdown",
   "metadata": {},
   "source": [
    "# Question 6"
   ]
  },
  {
   "cell_type": "markdown",
   "metadata": {},
   "source": [
    "First let us calculate how many employees have children "
   ]
  },
  {
   "cell_type": "code",
   "execution_count": 69,
   "metadata": {},
   "outputs": [],
   "source": [
    "haveChildren = 0.6 * 500 \n",
    "dontHaveChildren = 0.4 * 500"
   ]
  },
  {
   "cell_type": "markdown",
   "metadata": {},
   "source": [
    "Out of the employees we randomly select 4, so in order to calculate the probability to choose exactly 3 with children we need to calculate all the options. \n",
    "1. all three selected first \n",
    "2. two with children then one without then another one with\n",
    "3. one with children then one without then another two with\n",
    "4. one without children then three with\n"
   ]
  },
  {
   "cell_type": "code",
   "execution_count": 73,
   "metadata": {},
   "outputs": [
    {
     "data": {
      "text/plain": [
       "0.3462919633356553"
      ]
     },
     "execution_count": 73,
     "metadata": {},
     "output_type": "execute_result"
    }
   ],
   "source": [
    "#1\n",
    "p1 = haveChildren/500 * (haveChildren-1)/(500-1) * (haveChildren-2)/(500-2) * dontHaveChildren/(500-3)\n",
    "#2\n",
    "p2 = haveChildren/500 * (haveChildren-1)/(500-1) * dontHaveChildren/(500-2) * (haveChildren-2)/(500-3)\n",
    "#3\n",
    "p3 = haveChildren/500 * dontHaveChildren/(500-1) * (haveChildren-1)/(500-2) * (haveChildren-2)/(500-3)\n",
    "#4\n",
    "p4 = dontHaveChildren/500 * haveChildren/(500-1) * (haveChildren-1)/(500-2) * (haveChildren-2)/(500-3)\n",
    "pro = p1 + p2 + p3 + p4\n",
    "pro"
   ]
  },
  {
   "cell_type": "markdown",
   "metadata": {},
   "source": []
  },
  {
   "cell_type": "markdown",
   "metadata": {},
   "source": [
    "# Question 7"
   ]
  },
  {
   "cell_type": "markdown",
   "metadata": {},
   "source": [
    "In order to calculate the expected value let us use the formula $$E(x) = \\sum_{i=1}^n P(xi) \\bullet xi$$"
   ]
  },
  {
   "cell_type": "code",
   "execution_count": 74,
   "metadata": {
    "scrolled": true
   },
   "outputs": [
    {
     "data": {
      "text/plain": [
       "0.0"
      ]
     },
     "execution_count": 74,
     "metadata": {},
     "output_type": "execute_result"
    }
   ],
   "source": [
    "expectedValue3 = (-10 * 0.1) + (-5 * 0.35) + (0 * 0.1) + (5 * 0.35) + (10 * 0.1)\n",
    "expectedValue3"
   ]
  },
  {
   "cell_type": "markdown",
   "metadata": {},
   "source": []
  }
 ],
 "metadata": {
  "kernelspec": {
   "display_name": "Python 3",
   "language": "python",
   "name": "python3"
  },
  "language_info": {
   "codemirror_mode": {
    "name": "ipython",
    "version": 3
   },
   "file_extension": ".py",
   "mimetype": "text/x-python",
   "name": "python",
   "nbconvert_exporter": "python",
   "pygments_lexer": "ipython3",
   "version": "3.8.3"
  }
 },
 "nbformat": 4,
 "nbformat_minor": 4
}
